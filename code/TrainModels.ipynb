{
  "cells": [
    {
      "cell_type": "code",
      "execution_count": null,
      "metadata": {
        "collapsed": true,
        "pycharm": {}
      },
      "outputs": [],
      "source": "from keras.applications.resnet50 import ResNet50\nfrom keras.applications.mobilenet import MobileNet\nfrom keras import layers\nfrom keras import Model"
    },
    {
      "cell_type": "code",
      "execution_count": null,
      "outputs": [],
      "source": "base_model\u003dResNet50(input_shape\u003d(224, 224, 3), weights\u003d\u0027imagenet\u0027,include_top\u003dFalse)\n",
      "metadata": {
        "pycharm": {
          "metadata": false,
          "name": "#%%\n"
        }
      }
    },
    {
      "cell_type": "code",
      "execution_count": null,
      "outputs": [],
      "source": "base_model\u003dMobileNet(input_shape\u003d(224, 224, 3), weights\u003d\u0027imagenet\u0027,include_top\u003dFalse)",
      "metadata": {
        "pycharm": {
          "metadata": false,
          "name": "#%%\n"
        }
      }
    },
    {
      "cell_type": "code",
      "execution_count": null,
      "outputs": [],
      "source": "#For MobileNet\nx\u003dlayers.GlobalAveragePooling2D()(base_model.output)\nx\u003dlayers.Dense(1024,activation\u003d\u0027relu\u0027)(x)\nx\u003dlayers.Dense(512,activation\u003d\u0027relu\u0027)(x) #\npreds\u003dlayers.Dense(4,activation\u003d\u0027softmax\u0027)(x) #final layer with softmax activation",
      "metadata": {
        "pycharm": {
          "metadata": false,
          "name": "#%%\n"
        }
      }
    },
    {
      "cell_type": "code",
      "execution_count": null,
      "outputs": [],
      "source": "#For Inception\nx\u003dlayers.GlobalAveragePooling2D()(base_model.output)\npreds\u003dlayers.Dense(4,activation\u003d\u0027softmax\u0027)(x) #final layer with softmax activation",
      "metadata": {
        "pycharm": {
          "metadata": false,
          "name": "#%%\n"
        }
      }
    },
    {
      "cell_type": "code",
      "execution_count": null,
      "outputs": [],
      "source": "model\u003dModel(inputs\u003dbase_model.input,outputs\u003dpreds)\nfor layer in model.layers:\n    layer.trainable \u003d True",
      "metadata": {
        "pycharm": {
          "metadata": false,
          "name": "#%%\n"
        }
      }
    },
    {
      "cell_type": "code",
      "execution_count": null,
      "outputs": [],
      "source": "from keras.preprocessing.image import ImageDataGenerator\n\ntrain_datagen \u003d ImageDataGenerator() \ntest_datagen \u003d ImageDataGenerator()",
      "metadata": {
        "pycharm": {
          "metadata": false,
          "name": "#%%    \n"
        }
      }
    },
    {
      "cell_type": "code",
      "execution_count": null,
      "outputs": [],
      "source": "train_dir \u003d \"path/to/train\"\nvalidation_dir \u003d \"path/to/val\"\ntrain_generator \u003d train_datagen.flow_from_directory(train_dir,\n                                                 target_size\u003d(224,224),\n                                                 color_mode\u003d\u0027rgb\u0027,\n                                                 batch_size\u003d32,\n                                                 class_mode\u003d\u0027categorical\u0027,\n                                                 shuffle\u003dTrue)\n\nvalidation_generator \u003d test_datagen.flow_from_directory(\n                                                validation_dir,\n                                                target_size\u003d(224, 224),\n                                                batch_size\u003d32,\n                                                class_mode\u003d\u0027categorical\u0027,\n                                                shuffle\u003dTrue,\n                                                color_mode\u003d\u0027rgb\u0027)",
      "metadata": {
        "pycharm": {
          "metadata": false,
          "name": "#%%\n"
        }
      }
    },
    {
      "cell_type": "code",
      "execution_count": null,
      "outputs": [],
      "source": "from keras.optimizers import SGD\nfrom keras.optimizers import Adam\n\nmodel.compile(optimizer\u003dSGD(lr\u003d0.001, \n                  momentum\u003d0.5),loss\u003d\u0027categorical_crossentropy\u0027,metrics\u003d[\u0027accuracy\u0027])",
      "metadata": {
        "pycharm": {
          "metadata": false,
          "name": "#%%\n"
        }
      }
    },
    {
      "cell_type": "code",
      "execution_count": null,
      "outputs": [],
      "source": "step_size_train\u003dtrain_generator.n//train_generator.batch_size\nstep_size_val\u003dvalidation_generator.n//validation_generator.batch_size\n\nhistory \u003d model.fit_generator(\n      train_generator,\n      steps_per_epoch\u003dstep_size_train,\n      epochs\u003d10,\n      validation_data\u003dvalidation_generator,\n      validation_steps\u003dstep_size_val,\n      verbose\u003d1)",
      "metadata": {
        "pycharm": {
          "metadata": false,
          "name": "#%%\n"
        }
      }
    },
    {
      "cell_type": "code",
      "execution_count": null,
      "outputs": [],
      "source": "from skimage.io import imread\nfrom skimage.transform import resize\nimport numpy as np\n\n\nfrom keras.applications.resnet50 import preprocess_input\n\nmyImg \u003d resize(imread(\"/content/ImgClass/validation/plant/potted_plant_11029.jpg\")[:,:,:3], (224, 224),anti_aliasing\u003dFalse)\nmyImg \u003d np.reshape(myImg, [1, 224, 224, 3])\nmyImg \u003d preprocess_input(myImg)\nprint(myImg.shape)",
      "metadata": {
        "pycharm": {
          "metadata": false,
          "name": "#%%\n"
        }
      }
    },
    {
      "cell_type": "code",
      "execution_count": null,
      "outputs": [],
      "source": "ans \u003d model.predict(myImg)\nprint(ans)\n",
      "metadata": {
        "pycharm": {
          "metadata": false,
          "name": "#%%\n"
        }
      }
    }
  ],
  "metadata": {
    "language_info": {
      "codemirror_mode": {
        "name": "ipython",
        "version": 2
      },
      "file_extension": ".py",
      "mimetype": "text/x-python",
      "name": "python",
      "nbconvert_exporter": "python",
      "pygments_lexer": "ipython2",
      "version": "2.7.6"
    },
    "kernelspec": {
      "name": "python3",
      "language": "python",
      "display_name": "Python 3"
    }
  },
  "nbformat": 4,
  "nbformat_minor": 0
}